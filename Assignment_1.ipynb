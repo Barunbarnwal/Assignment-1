{
  "nbformat": 4,
  "nbformat_minor": 0,
  "metadata": {
    "colab": {
      "provenance": []
    },
    "kernelspec": {
      "name": "python3",
      "display_name": "Python 3"
    },
    "language_info": {
      "name": "python"
    }
  },
  "cells": [
    {
      "cell_type": "code",
      "execution_count": null,
      "metadata": {
        "id": "CrkOaFctVN8Z"
      },
      "outputs": [],
      "source": [
        "1. String Slicing\n",
        "It is a way to get specific parts of a string by using start, end & step values. Its especially useful for text manipulation and data parsing.\n",
        "Example:-\n",
        "\n"
      ]
    },
    {
      "cell_type": "markdown",
      "source": [],
      "metadata": {
        "id": "IVUbpB1iJYBn"
      }
    },
    {
      "cell_type": "code",
      "source": [
        "s=\"Hello, Buddy\" # slice string from index 0 to index 5 (exclusive)\n",
        "print (s[0:5])\n",
        "s=\"Hello, Buddy\" # slice string from index 0 to index 5 (exclusive)\n",
        "print (s[0:3])\n",
        "print (s[:7])\n",
        "print (s[:9])\n",
        "print (s[5:10])"
      ],
      "metadata": {
        "colab": {
          "base_uri": "https://localhost:8080/"
        },
        "id": "unQx7h7IJZfY",
        "outputId": "2e7c18ff-709c-47b6-957d-f5ae54224b51"
      },
      "execution_count": null,
      "outputs": [
        {
          "output_type": "stream",
          "name": "stdout",
          "text": [
            "Hello\n",
            "Hel\n",
            "Hello, \n",
            "Hello, Bu\n",
            ", Bud\n"
          ]
        }
      ]
    },
    {
      "cell_type": "code",
      "source": [],
      "metadata": {
        "id": "G3eY34k7Ku9N"
      },
      "execution_count": null,
      "outputs": []
    },
    {
      "cell_type": "markdown",
      "source": [
        "2. Python Lists can store an ordered collection of items, or elements, of varying types. They are often used to compile multiple items into a single, mutable variables, which is helpful for retrieving items, specifying outputs or performing calculations quickly. Lists are also a type of built in data structure in Python (along with tuples, sets, and dictionaries), which is a specified way of storing and formatting data.\n",
        "\n",
        "lists are 8 ways to modify a Python\n",
        "1. Index Method\n",
        "2. Count Method\n",
        "3. Sort Method\n",
        "4. Append Method\n",
        "5. Remove Method\n",
        "6. Pop Method\n",
        "7. Extend Method\n",
        "8. Insert Method\n",
        "\n",
        "Examples:-"
      ],
      "metadata": {
        "id": "G2u908abKvf0"
      }
    },
    {
      "cell_type": "code",
      "source": [
        "s=[4,1,5,4,10,4]\n",
        "print(s.index(4))\n",
        "print (s.index(4,3))"
      ],
      "metadata": {
        "colab": {
          "base_uri": "https://localhost:8080/"
        },
        "id": "DE1IzLxISe4J",
        "outputId": "e73c6ba5-0b43-427b-c49b-b37d5a131d4c"
      },
      "execution_count": null,
      "outputs": [
        {
          "output_type": "stream",
          "name": "stdout",
          "text": [
            "0\n",
            "3\n"
          ]
        }
      ]
    },
    {
      "cell_type": "code",
      "source": [
        "s=[4,1,5,4,10,4]\n",
        "print(s.count(4))\n",
        "print(s.count(6))"
      ],
      "metadata": {
        "colab": {
          "base_uri": "https://localhost:8080/"
        },
        "id": "jYpK9ZOPTnfZ",
        "outputId": "0f7ad436-eebb-4a55-cf38-88aa9e526774"
      },
      "execution_count": null,
      "outputs": [
        {
          "output_type": "stream",
          "name": "stdout",
          "text": [
            "3\n",
            "0\n"
          ]
        }
      ]
    },
    {
      "cell_type": "code",
      "source": [
        "s=[3,7,4,2]\n",
        "s.sort()\n",
        "print(s)"
      ],
      "metadata": {
        "colab": {
          "base_uri": "https://localhost:8080/"
        },
        "id": "lwOXvXmTUE0a",
        "outputId": "8e6c068a-0a04-49ff-bd7a-eb3a399bf973"
      },
      "execution_count": null,
      "outputs": [
        {
          "output_type": "stream",
          "name": "stdout",
          "text": [
            "[2, 3, 4, 7]\n"
          ]
        }
      ]
    },
    {
      "cell_type": "code",
      "source": [
        "s=[4,1,5,4,10,4]\n",
        "s.append(100)\n",
        "print(s)"
      ],
      "metadata": {
        "colab": {
          "base_uri": "https://localhost:8080/"
        },
        "id": "ZFhJzjeoVn3z",
        "outputId": "2344466b-f2ce-46e0-9395-ef2d6fa45c69"
      },
      "execution_count": null,
      "outputs": [
        {
          "output_type": "stream",
          "name": "stdout",
          "text": [
            "[4, 1, 5, 4, 10, 4, 100]\n"
          ]
        }
      ]
    },
    {
      "cell_type": "code",
      "source": [
        "s=[4,1,5,4,10,4]\n",
        "s.remove(10)\n",
        "print (s)"
      ],
      "metadata": {
        "colab": {
          "base_uri": "https://localhost:8080/"
        },
        "id": "nNWADHxPWvVL",
        "outputId": "8a226e38-4b15-4404-d6d5-d95d2478aaad"
      },
      "execution_count": null,
      "outputs": [
        {
          "output_type": "stream",
          "name": "stdout",
          "text": [
            "[4, 1, 5, 4, 4]\n"
          ]
        }
      ]
    },
    {
      "cell_type": "code",
      "source": [
        "s=[4,1,5,4,10,4]\n",
        "s.pop(2)"
      ],
      "metadata": {
        "colab": {
          "base_uri": "https://localhost:8080/"
        },
        "id": "Hzzuvb8pXIQY",
        "outputId": "6db81179-7204-4f1f-9914-d2d3a8e43b0d"
      },
      "execution_count": null,
      "outputs": [
        {
          "output_type": "execute_result",
          "data": {
            "text/plain": [
              "5"
            ]
          },
          "metadata": {},
          "execution_count": 24
        }
      ]
    },
    {
      "cell_type": "code",
      "source": [
        "s=[4,1,5,4,10,4]\n",
        "s.extend([7,9])\n",
        "print(s)"
      ],
      "metadata": {
        "colab": {
          "base_uri": "https://localhost:8080/"
        },
        "id": "I6QxYWHnYvUs",
        "outputId": "31628d54-5f94-4f17-e7b6-47b95df866f0"
      },
      "execution_count": null,
      "outputs": [
        {
          "output_type": "stream",
          "name": "stdout",
          "text": [
            "[4, 1, 5, 4, 10, 4, 7, 9]\n"
          ]
        }
      ]
    },
    {
      "cell_type": "code",
      "source": [
        "s=[4,1,5,4,10,4]\n",
        "s.insert(5,[7,9])\n",
        "print(s)"
      ],
      "metadata": {
        "colab": {
          "base_uri": "https://localhost:8080/"
        },
        "id": "28AIb40FZu24",
        "outputId": "e491b53d-5139-41a4-e845-0cc8552edfcb"
      },
      "execution_count": null,
      "outputs": [
        {
          "output_type": "stream",
          "name": "stdout",
          "text": [
            "[4, 1, 5, 4, 10, [7, 9], 4]\n"
          ]
        }
      ]
    },
    {
      "cell_type": "markdown",
      "source": [
        "3. List manipulation uses the same specific operations as transforming a list's contents in Python. Lists are very dynamic, and you can easily add, remove or change their data, making them a very useful tool for dealing with data in Python.\n",
        "List manipulation includes:\n",
        "* Elements to be added: Methods like append(),insert(),and extend() can be used to add elements to a list.\n",
        "* Deleting Elements: You can delete elements from a list using methods such as remove(), pop(), and the del statement.\n",
        "\n",
        "Examples :-"
      ],
      "metadata": {
        "id": "5s3fStaiaFxJ"
      }
    },
    {
      "cell_type": "code",
      "source": [
        "List= [10, \"Apple\",6.9,True, [1,2,3]]"
      ],
      "metadata": {
        "id": "n6H1gdPEeUNN"
      },
      "execution_count": null,
      "outputs": []
    },
    {
      "cell_type": "markdown",
      "source": [
        "In the list ::\n",
        "10 is an integer\n",
        "\"Apple\" is a String\n",
        "6.9 is a Float\n",
        "True is a boolean\n",
        "[1,2,3] is an another list"
      ],
      "metadata": {
        "id": "DAVpE8UEemCE"
      }
    },
    {
      "cell_type": "markdown",
      "source": [
        "# 4. Difference between List and Tuple in Python:-\n",
        "\n",
        "\n",
        "1. List are mutable.     \n",
        "2. The implication of iterations is Time consuming.\n",
        "3. The list is better for performing operations, such as insertion and deletion.\n",
        "4. List Consume more memory.\n",
        "5. Lists have several built-in methods.\n",
        "6. Unexpected changes and errors are more likely to occur.\n",
        "\n",
        "1. Tuples are immutable.\n",
        "2. The implication of iterations is comparatively Faster.\n",
        "3. A Tuple data type is appropriate for accessing the elements.\n",
        "4. A Tuple consumes less memory as compared to the list.\n",
        "5. Tuple does not have many built-in methods.\n",
        "6. Because tuple don't change they are far less error-phone."
      ],
      "metadata": {
        "id": "jfx8jruqgzSp"
      }
    },
    {
      "cell_type": "code",
      "source": [
        "List = [1,2,4,5,4,3,3,3,6,5]\n",
        "print(\"Original list\",List)\n",
        "List[3]=77\n",
        "print(\"mutability\", List)\n"
      ],
      "metadata": {
        "colab": {
          "base_uri": "https://localhost:8080/"
        },
        "id": "DIqb4L6aecVm",
        "outputId": "5df8f1d4-2a6f-49c2-e2d9-52664edc6de0"
      },
      "execution_count": 15,
      "outputs": [
        {
          "output_type": "stream",
          "name": "stdout",
          "text": [
            "Original list [1, 2, 4, 5, 4, 3, 3, 3, 6, 5]\n",
            "mutability [1, 2, 4, 77, 4, 3, 3, 3, 6, 5]\n"
          ]
        }
      ]
    },
    {
      "cell_type": "code",
      "source": [
        "tuple=(1,2,4,4,3,3,3,6,5)\n",
        "print(\"Original tuple\", tuple)\n",
        "tuple[3]=77\n",
        "print(\"mutability\", tuple)\n"
      ],
      "metadata": {
        "colab": {
          "base_uri": "https://localhost:8080/",
          "height": 211
        },
        "id": "jisAMr6rgoOi",
        "outputId": "af3b839a-fcb2-4967-88a6-2118666e9d11"
      },
      "execution_count": 16,
      "outputs": [
        {
          "output_type": "stream",
          "name": "stdout",
          "text": [
            "Original tuple (1, 2, 4, 4, 3, 3, 3, 6, 5)\n"
          ]
        },
        {
          "output_type": "error",
          "ename": "TypeError",
          "evalue": "'tuple' object does not support item assignment",
          "traceback": [
            "\u001b[0;31m---------------------------------------------------------------------------\u001b[0m",
            "\u001b[0;31mTypeError\u001b[0m                                 Traceback (most recent call last)",
            "\u001b[0;32m<ipython-input-16-5798738b0e25>\u001b[0m in \u001b[0;36m<cell line: 3>\u001b[0;34m()\u001b[0m\n\u001b[1;32m      1\u001b[0m \u001b[0mtuple\u001b[0m\u001b[0;34m=\u001b[0m\u001b[0;34m(\u001b[0m\u001b[0;36m1\u001b[0m\u001b[0;34m,\u001b[0m\u001b[0;36m2\u001b[0m\u001b[0;34m,\u001b[0m\u001b[0;36m4\u001b[0m\u001b[0;34m,\u001b[0m\u001b[0;36m4\u001b[0m\u001b[0;34m,\u001b[0m\u001b[0;36m3\u001b[0m\u001b[0;34m,\u001b[0m\u001b[0;36m3\u001b[0m\u001b[0;34m,\u001b[0m\u001b[0;36m3\u001b[0m\u001b[0;34m,\u001b[0m\u001b[0;36m6\u001b[0m\u001b[0;34m,\u001b[0m\u001b[0;36m5\u001b[0m\u001b[0;34m)\u001b[0m\u001b[0;34m\u001b[0m\u001b[0;34m\u001b[0m\u001b[0m\n\u001b[1;32m      2\u001b[0m \u001b[0mprint\u001b[0m\u001b[0;34m(\u001b[0m\u001b[0;34m\"Original tuple\"\u001b[0m\u001b[0;34m,\u001b[0m \u001b[0mtuple\u001b[0m\u001b[0;34m)\u001b[0m\u001b[0;34m\u001b[0m\u001b[0;34m\u001b[0m\u001b[0m\n\u001b[0;32m----> 3\u001b[0;31m \u001b[0mtuple\u001b[0m\u001b[0;34m[\u001b[0m\u001b[0;36m3\u001b[0m\u001b[0;34m]\u001b[0m\u001b[0;34m=\u001b[0m\u001b[0;36m77\u001b[0m\u001b[0;34m\u001b[0m\u001b[0;34m\u001b[0m\u001b[0m\n\u001b[0m\u001b[1;32m      4\u001b[0m \u001b[0mprint\u001b[0m\u001b[0;34m(\u001b[0m\u001b[0;34m\"mutability\"\u001b[0m\u001b[0;34m,\u001b[0m \u001b[0mtuple\u001b[0m\u001b[0;34m)\u001b[0m\u001b[0;34m\u001b[0m\u001b[0;34m\u001b[0m\u001b[0m\n",
            "\u001b[0;31mTypeError\u001b[0m: 'tuple' object does not support item assignment"
          ]
        }
      ]
    },
    {
      "cell_type": "code",
      "source": [],
      "metadata": {
        "id": "UVgsWncEiJpt"
      },
      "execution_count": null,
      "outputs": []
    },
    {
      "cell_type": "markdown",
      "source": [
        "5. A well-defined collection of Objects or items or data is known as a set.The objects or data are known as the element. For Example, the boys in a classroom can be put in one set, all integers from 1 to 100 can become one set, and all prime numbers can be called an infinite set. The symbol used for sets is {.....}. Only the collection of data with specific characteristics is called a Set."
      ],
      "metadata": {
        "id": "BXivllttiKXQ"
      }
    },
    {
      "cell_type": "code",
      "source": [],
      "metadata": {
        "id": "3pMo5U7OlHhu"
      },
      "execution_count": 19,
      "outputs": []
    },
    {
      "cell_type": "markdown",
      "source": [
        "6. Tuples are immutable collections of variables, so they can't be changed after creation. Sets are mutable collections of variables, so sets can be changed after creation."
      ],
      "metadata": {
        "id": "yznvUjB2mwgx"
      }
    },
    {
      "cell_type": "code",
      "source": [
        "my_tuple=(1,2,3,4,5)\n",
        "print(my_tuple[-1])\n",
        "print(my_tuple[-2])\n",
        "sliced_tuple=my_tuple[1:3]\n",
        "print(sliced_tuple)"
      ],
      "metadata": {
        "colab": {
          "base_uri": "https://localhost:8080/"
        },
        "id": "WNvwXxt3oGuE",
        "outputId": "415351f0-e03d-4bcf-b280-59bdfcebb592"
      },
      "execution_count": 23,
      "outputs": [
        {
          "output_type": "stream",
          "name": "stdout",
          "text": [
            "5\n",
            "4\n",
            "(2, 3)\n"
          ]
        }
      ]
    },
    {
      "cell_type": "code",
      "source": [
        "my_set={1,2,3}\n",
        "my_set.add(6)\n",
        "my_set.remove(3)\n",
        "my_set.discard(2)\n",
        "print(my_set)"
      ],
      "metadata": {
        "colab": {
          "base_uri": "https://localhost:8080/"
        },
        "id": "jvZzMm7sqNK3",
        "outputId": "b01a0eaf-6b59-43db-d5cd-6df59dfcfdb6"
      },
      "execution_count": 25,
      "outputs": [
        {
          "output_type": "stream",
          "name": "stdout",
          "text": [
            "{1, 6}\n"
          ]
        }
      ]
    },
    {
      "cell_type": "markdown",
      "source": [
        "7. Dictionaries are mutable data structures that allow you to store key-value pairs.Dictionary can be created using the dict() constructor or braces'{}'. Once you have created a dictionary, you can add, remove or update elements using the methods dict.update(),dict.pop(), and dict.popitem().\n",
        "There are two ways to access a dictionary element in Python. The first is by using the get() method. This method takes two arguments: the dictionary key and a default value. If the key is in the dictionary, the get() method will return the value associated with that key. The get() method will return the default value if the key is not in the dictionary."
      ],
      "metadata": {
        "id": "brPBZ9bQqt89"
      }
    },
    {
      "cell_type": "code",
      "source": [
        "my_dict={'name':'Jack','age':26}\n",
        "print(my_dict['name'])\n",
        "print(my_dict.get('age'))"
      ],
      "metadata": {
        "colab": {
          "base_uri": "https://localhost:8080/"
        },
        "id": "_Sf1LGZzyAMU",
        "outputId": "209bb8b1-6857-47ec-8198-91d2acbbf0b2"
      },
      "execution_count": 32,
      "outputs": [
        {
          "output_type": "stream",
          "name": "stdout",
          "text": [
            "Jack\n",
            "26\n"
          ]
        }
      ]
    },
    {
      "cell_type": "markdown",
      "source": [
        "8. Immutability is essential for keys because it ensures that the dictionary can effciently look up values based on their keys. If a key was mutable, its hash value could change, making it impossible to find the associated value in the dictionary."
      ],
      "metadata": {
        "id": "QQJYt9pizwk2"
      }
    },
    {
      "cell_type": "code",
      "source": [
        "mylist=[\"Ram\",\"Shyam\",\"Mohan\",\"Sohan\"]\n",
        "print(\"List=\",mylist)"
      ],
      "metadata": {
        "colab": {
          "base_uri": "https://localhost:8080/"
        },
        "id": "Bnr8thDf3kuZ",
        "outputId": "5c299d50-f83d-4f00-c65f-bf5ebf81e2f2"
      },
      "execution_count": 42,
      "outputs": [
        {
          "output_type": "stream",
          "name": "stdout",
          "text": [
            "List= ['Ram', 'Shyam', 'Mohan', 'Sohan']\n"
          ]
        }
      ]
    }
  ]
}